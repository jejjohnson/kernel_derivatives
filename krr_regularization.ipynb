{
 "cells": [
  {
   "cell_type": "markdown",
   "metadata": {},
   "source": [
    "# Kernel Derivatives: Regularization"
   ]
  },
  {
   "cell_type": "markdown",
   "metadata": {},
   "source": [
    "Date: 4th December, 2017\n",
    "\n",
    "In this notebook, I will be exploring how some different derivatives can be used as regularization parameters. This will be used in the context of Kernel Ridge Regression (KRR) and Gaussian Process Regression (GPR).\n",
    "\n",
    "The general regression problem:\n",
    "\n",
    "$$\\mathcal{C} = \\frac{1}{n} \\sum \\phi \\left( y_i, f(x_i) \\right) + \\text{ penalty}(f)$$\n",
    "\n",
    "where:\n",
    "\n",
    "* $\\phi$ is the estimation error \n",
    "* penalty($f$) is the regularization term.\n",
    "\n",
    "Assume we have the following cost function for ridge regression where we have a regularization penalty (scaled by $\\lambda$) added to the cost term like so ([1]):\n",
    "\n",
    "$$\\mathcal{C} = \\frac{1}{n} \\sum_{i=1}^{n} \\left( y_i - f(x_i) \\right)^2 + \\lambda ||f||^{2}_{\\mathcal{H}}$$\n",
    "\n",
    "where:\n",
    "\n",
    "* $\\alpha$ are the weights\n",
    "* $K$ is the kernel matrix\n",
    "* $\\lambda$ is the trade off parameter between the regularization and the mean squared error.\n",
    "* $\\Omega$ is the regularization that we choose (e.g. $||w||$, $||f||$, $||\\partial f||$, $||\\partial^2 f||$)\n",
    "\n",
    "[1]: https://people.eecs.berkeley.edu/~bartlett/courses/281b-sp08/10.pdf\n",
    "\n",
    "This results in the following formula:\n",
    "\n",
    "$$\\mathbf{w} = (\\mathbf{x}^T\\mathbf{x}+ \\lambda \\mathbf{I})^{-1} \\mathbf{x}^T \\mathbf{y}$$"
   ]
  },
  {
   "cell_type": "markdown",
   "metadata": {},
   "source": [
    "## Derivation"
   ]
  },
  {
   "cell_type": "markdown",
   "metadata": {},
   "source": [
    "Let "
   ]
  },
  {
   "cell_type": "code",
   "execution_count": 1,
   "metadata": {},
   "outputs": [],
   "source": [
    "import numpy as np\n",
    "\n",
    "from time import time\n",
    "\n",
    "from scipy.spatial.distance import pdist\n",
    "\n",
    "from sklearn.metrics import (make_scorer, mean_squared_error)\n",
    "from sklearn.metrics.pairwise import rbf_kernel\n",
    "from sklearn.base import BaseEstimator, RegressorMixin\n",
    "from sklearn.model_selection import (GridSearchCV, learning_curve, \n",
    "                                     validation_curve, StratifiedShuffleSplit)\n",
    "\n",
    "from matplotlib import pyplot as plt\n",
    "from matplotlib import ticker\n",
    "%matplotlib inline"
   ]
  },
  {
   "cell_type": "code",
   "execution_count": 2,
   "metadata": {},
   "outputs": [
    {
     "name": "stdout",
     "output_type": "stream",
     "text": [
      "Standard Deviation, Signal: 0.723\n",
      "\n",
      "Standard Deviation, Noise: 0.300\n",
      "\n",
      "Signal-to-Noise Ratio (SNR): 44.297\n",
      "\n"
     ]
    }
   ],
   "source": [
    "# set the seed to zero for reproducibility\n",
    "seed = 123\n",
    "np.random.seed(seed)\n",
    "\n",
    "x = {}\n",
    "y = {}\n",
    "\n",
    "# ----------------------------------\n",
    "# GENERATE SIGNAL\n",
    "# ----------------------------------\n",
    "\n",
    "# generate an x signal between 0 and 20.\n",
    "num_train = 100\n",
    "num_test = 100\n",
    "x['data'] = np.linspace(0, 3*np.pi, num=num_train)[:, np.newaxis]       # generate points between 0 and 20\n",
    "x['plot'] = np.linspace(0, 3*np.pi, num=num_test)[:, np.newaxis]\n",
    "\n",
    "# signal function (analytical)\n",
    "def f(x, scaling=0.1, n_derivative=0):\n",
    "    \n",
    "    # 0th derivative\n",
    "    if n_derivative is 0:\n",
    "        \n",
    "        value =  np.sin(2 * np.pi * scaling * x)\n",
    "    \n",
    "    # 1st derivative\n",
    "    elif n_derivative is 1:\n",
    "        \n",
    "        value = (2 * np.pi * scaling) * np.cos(2 * np.pi * scaling * x)\n",
    "    \n",
    "    # 2nd derivative\n",
    "    elif n_derivative is 2:\n",
    "        \n",
    "        value = -(2 * np.pi * scaling)**2 * np.sin(2 * np.pi * scaling * x)\n",
    "    \n",
    "    else:\n",
    "        raise ValueError('Value needs to be between 0 and 1.')\n",
    "        \n",
    "    return value\n",
    "\n",
    "def get_derivative(func, x):\n",
    "    h = 0.0001\n",
    "    return (func(x + h) - func(x)) / h\n",
    "\n",
    "x['signal'] = f(x['data'])                   # 2 + sin(x)\n",
    "x['signal'] = x['signal']/x['signal'].max()  # normalize\n",
    "std_signal = np.std(x['signal'])          \n",
    "\n",
    "\n",
    "\n",
    "print('Standard Deviation, Signal: {:.3f}\\n'.format(std_signal))\n",
    "\n",
    "# ----------------------------------\n",
    "# GENERATE NOISE\n",
    "# ----------------------------------\n",
    "\n",
    "# generate a noise sample with a sc\n",
    "std_noise = 0.3    # scale parameter of 0.1\n",
    "\n",
    "print('Standard Deviation, Noise: {:.3f}\\n'.format(std_noise))\n",
    "\n",
    "snr = 20 * np.log(np.std(x['data'])/std_noise)\n",
    "\n",
    "print('Signal-to-Noise Ratio (SNR): {:.3f}\\n'.format(snr))\n",
    "\n",
    "size = np.shape(x['data'])\n",
    "\n",
    "x['noise'] = np.random.normal(scale=std_noise, size=size)\n",
    "\n",
    "# ----------------------------------\n",
    "# GENERATE DATA\n",
    "# ----------------------------------\n",
    "\n",
    "y['data'] = x['signal'] + x['noise']\n",
    "\n",
    "#\n",
    "# ANALYTICAL DERIVATIVES\n",
    "# \n",
    "\n",
    "gs_model = {}"
   ]
  },
  {
   "cell_type": "markdown",
   "metadata": {},
   "source": [
    "### Custom Kernel Ridge Regression Function"
   ]
  },
  {
   "cell_type": "code",
   "execution_count": 3,
   "metadata": {},
   "outputs": [],
   "source": [
    "class KRR(BaseEstimator, RegressorMixin):\n",
    "    \"\"\"Kernel Ridge Regression with different classifiers.\n",
    "    An implementation of KRR algorithm with different\n",
    "    regularization parameters.\n",
    "\n",
    "\n",
    "    Parameters\n",
    "    ----------\n",
    "    reg : str, {'w', 'f', 'df', 'df2'}\n",
    "        the regularization parameter associated with the\n",
    "        KRR solution\n",
    "\n",
    "        alpha = inv(K + lam reg) * y\n",
    "\n",
    "    sigma : float, optional(default=None)\n",
    "        the parameter for the kernel function.\n",
    "\n",
    "    lam : float, options(default=None)\n",
    "        the trade-off parameter between the mean squared error\n",
    "        and the regularization term.\n",
    "\n",
    "    Attributes\n",
    "    ----------\n",
    "    weights_ : array, [N x D]\n",
    "        the weights found from the matrix\n",
    "\n",
    "    K_ : array, [N x N]\n",
    "        the kernel matrix with sigma parameter\n",
    "    \"\"\"\n",
    "    def __init__(self, reg=None, sigma=None, lam=None):\n",
    "        self.reg = reg\n",
    "        self.sigma = sigma\n",
    "        self.lam = lam\n",
    "        \n",
    "    def fit(self, X, y=None):\n",
    "        \n",
    "        # regularization \n",
    "        if self.reg is None:\n",
    "            self.reg = 'w'\n",
    "        elif self.reg not in ['w', 'df', 'd2f']:\n",
    "            raise ValueError('Unrecognized regularization.')\n",
    "        \n",
    "        # regularization trade off parameter\n",
    "        if self.lam is None:\n",
    "            self.lam = 1.0e-4\n",
    "            \n",
    "        # kernel length scale parameter\n",
    "        if self.sigma is None:\n",
    "            self.sigma = np.mean(pdist(X, metric='euclidean'))\n",
    "        \n",
    "        # gamma parameter for the scikit-learn kernel matrix\n",
    "        self.gamma = 1 / (2 * self.sigma**2)\n",
    "        \n",
    "        # kernel function\n",
    "        self.X_fit_ = X\n",
    "        self.K_ = rbf_kernel(self.X_fit_, Y=X, gamma=self.gamma)\n",
    "                \n",
    "        # Regularization with the weights\n",
    "        if self.reg is 'w':\n",
    "            \n",
    "            # regularization simple\n",
    "            regularization = np.eye(np.size(X))\n",
    "            \n",
    "            # solve for the weights\n",
    "            self.weights_ = np.linalg.solve(self.K_ + self.lam * regularization, y)\n",
    "            \n",
    "        # Regularization with the derivative\n",
    "        elif self.reg is 'df':\n",
    "            \n",
    "            theta = 2 * self.gamma\n",
    "            \n",
    "            # initialize derivative\n",
    "            self.derivative_ = np.zeros(np.shape(self.X_fit_ ))\n",
    "            \n",
    "            # loop through dimensions\n",
    "            for dim in np.arange(0, np.shape(self.X_fit_ )[1]):\n",
    "\n",
    "                # loop through the number of test points\n",
    "                for iTest in np.arange(0, np.shape(self.X_fit_ )[0]):\n",
    "\n",
    "                    # loop through the number of test points\n",
    "                    for iTrain in np.arange(0, np.shape(self.X_fit_ )[0]):\n",
    "\n",
    "                        self.derivative_[iTest, dim] += theta * \\\n",
    "                                                  (self.X_fit_[iTrain, dim] -\n",
    "                                                   self.X_fit_[iTest, dim]) * \\\n",
    "                                                  self.K_[iTrain, iTest]\n",
    "                        \n",
    "            # solve for the weights\n",
    "            self.weights_ = np.linalg.solve(np.dot(self.K_, self.K_) + \n",
    "                                            self.lam * self.derivative_**2, \n",
    "                                            np.dot(self.K_, y))\n",
    "            \n",
    "        # Regularization with the second derivative\n",
    "        elif self.reg is 'd2f':\n",
    "            \n",
    "            theta = 2 * self.gamma\n",
    "            \n",
    "            # initialize derivative\n",
    "            self.derivative2_ = np.zeros(np.shape(self.X_fit_ ))\n",
    "            \n",
    "            # loop through dimensions\n",
    "            for dim in np.arange(0, np.shape(self.X_fit_ )[1]):\n",
    "\n",
    "                # loop through the number of test points\n",
    "                for iTest in np.arange(0, np.shape(self.X_fit_ )[0]):\n",
    "\n",
    "                    # loop through the number of test points\n",
    "                    for iTrain in np.arange(0, np.shape(self.X_fit_ )[0]):\n",
    "\n",
    "                        self.derivative2_[iTest, dim] += (theta**2 *\n",
    "                                                   (self.X_fit_[iTrain, dim] - \n",
    "                                                    self.X_fit_[iTest, dim])**2\n",
    "                                                   - theta) * self.K_[iTrain, iTest]\n",
    "                        \n",
    "            # solve for the weights\n",
    "            self.weights_ = np.linalg.solve(np.dot(self.K_, self.K_) + self.lam * \n",
    "                                            self.derivative2_**2, \n",
    "                                            np.dot(self.K_, y))\n",
    "        else:\n",
    "            raise ValueError('Unrecognized reg parameter.')\n",
    "                \n",
    "        return self\n",
    "    \n",
    "    def predict(self, x):\n",
    "        \n",
    "        # calculate the kernel function with new points\n",
    "        K = rbf_kernel(x, self.X_fit_, gamma=self.gamma)\n",
    "        \n",
    "        return np.dot(K, self.weights_)\n",
    "    "
   ]
  },
  {
   "cell_type": "markdown",
   "metadata": {},
   "source": [
    "### KRR ($||w||$)"
   ]
  },
  {
   "cell_type": "code",
   "execution_count": 4,
   "metadata": {},
   "outputs": [
    {
     "name": "stdout",
     "output_type": "stream",
     "text": [
      "Fitting 2 folds for each of 100 candidates, totalling 200 fits\n",
      "Best score for ||w||: -0.635980073986\n",
      "Best sigma: 4.64158883361\n",
      "Best lambda: 0.0464158883361\n"
     ]
    },
    {
     "name": "stderr",
     "output_type": "stream",
     "text": [
      "[Parallel(n_jobs=-1)]: Done 200 out of 200 | elapsed:    0.1s finished\n"
     ]
    }
   ],
   "source": [
    "# initialize the parameter candidates\n",
    "sigma_candidates = np.logspace(-2, 2, num=10)\n",
    "lam_candidates = np.logspace(-7, 10, num=10)\n",
    "\n",
    "parameter_grid = dict(sigma=sigma_candidates,\n",
    "                      lam=lam_candidates)\n",
    "\n",
    "# initialize grid search class\n",
    "gs_model['w'] = GridSearchCV(estimator=KRR(reg='w'),\n",
    "                             param_grid=parameter_grid,\n",
    "                             n_jobs=-1,\n",
    "                             verbose=1,\n",
    "                             cv=2,\n",
    "                             scoring='neg_mean_absolute_error',\n",
    "                             return_train_score=True)\n",
    "        \n",
    "# train classifier\n",
    "gs_model['w'].fit(x['data'], y['data'])\n",
    "\n",
    "# View the accuracy score\n",
    "print('Best score for ||w||:', gs_model['w'].best_score_) \n",
    "\n",
    "# View the best parameters for the model found using grid search\n",
    "best_lambda = gs_model['w'].best_estimator_.lam\n",
    "best_sigma = gs_model['w'].best_estimator_.sigma\n",
    "print('Best sigma:', best_sigma) \n",
    "print('Best lambda:', best_lambda)"
   ]
  },
  {
   "cell_type": "code",
   "execution_count": 5,
   "metadata": {},
   "outputs": [],
   "source": [
    "# gather scores\n",
    "scores = gs_model['w'].cv_results_['mean_test_score'].reshape(len(lam_candidates),\n",
    "                                                               len(sigma_candidates))\n",
    "\n",
    "# scale scores\n",
    "scores = scores/scores.max()\n",
    "\n",
    "min_sig = np.argmin(scores, axis=0)\n",
    "min_lam = np.argmin(scores, axis=1)"
   ]
  },
  {
   "cell_type": "code",
   "execution_count": 6,
   "metadata": {},
   "outputs": [
    {
     "data": {
      "image/png": "[encoded data removed]",
      "text/plain": [
       "<matplotlib.figure.Figure at 0x7f4f10d8e278>"
      ]
     },
     "metadata": {},
     "output_type": "display_data"
    }
   ],
   "source": [
    "\n",
    "fig, ax = plt.subplots()\n",
    "\n",
    "cax = ax.imshow(scores, cmap=plt.cm.hot)\n",
    "# plt.scatter(min_sig, min_lam,\n",
    "#          color='green', marker='+',s=20)\n",
    "\n",
    "formatter = ticker.ScalarFormatter(useMathText=True)\n",
    "formatter.set_scientific(True)\n",
    "\n",
    "# def format_ticks(value, tick_number):\n",
    "    \n",
    "\n",
    "fmt_sigma = ['%1.1e' % i for i in sigma_candidates.tolist()]\n",
    "fmt_lam = ['%1.1e' % i for i in lam_candidates.tolist()]\n",
    "\n",
    "ax.set_xlabel(r'$\\lambda$')\n",
    "ax.set_xticks(np.arange(len(fmt_lam)))\n",
    "ax.set_xticklabels(fmt_lam, rotation=90)\n",
    "\n",
    "ax.set_ylabel(r'$\\sigma$', rotation=0)\n",
    "ax.set_yticks(np.arange(len(fmt_sigma)))\n",
    "ax.set_yticklabels(fmt_sigma)\n",
    "\n",
    "cbar = fig.colorbar(cax)\n",
    "ax.set_title('Validation Accuracy')\n",
    "plt.show()"
   ]
  },
  {
   "cell_type": "code",
   "execution_count": 7,
   "metadata": {},
   "outputs": [
    {
     "data": {
      "image/png": "[encoded data removed]",
      "text/plain": [
       "<matplotlib.figure.Figure at 0x7f4f38518b70>"
      ]
     },
     "metadata": {},
     "output_type": "display_data"
    }
   ],
   "source": [
    "# initialize model\n",
    "krr_model = KRR(reg='w',\n",
    "                lam=best_lambda,\n",
    "                sigma=best_sigma)\n",
    "\n",
    "# fit to data\n",
    "krr_model.fit(x['data'], y['data'])\n",
    "\n",
    "# predict\n",
    "y_pred = krr_model.predict(x['plot'])\n",
    "\n",
    "\n",
    "fig, ax = plt.subplots()\n",
    "\n",
    "# plot the signal\n",
    "ax.plot(x['data'], x['signal'], color='y', linewidth=3, label='Signal')\n",
    "\n",
    "# plot kernel model\n",
    "ax.plot(x['plot'], y_pred, 'k+', linewidth=3, label=r'KRR Model, $||w||$')\n",
    "\n",
    "# plot data\n",
    "ax.scatter(x['data'], y['data'], color='r', label='Data')\n",
    "\n",
    "ax.tick_params(\n",
    "    axis='both',\n",
    "    which='both',\n",
    "    bottom='off',\n",
    "    left='off',\n",
    "    top='off',\n",
    "    labelbottom='off',\n",
    "    labelleft='off')\n",
    "\n",
    "# get rid of frame\n",
    "for spine in plt.gca().spines.values():\n",
    "    spine.set_visible(False)\n",
    "\n",
    "ax.legend(fontsize=14)\n",
    "plt.tight_layout()\n",
    "\n",
    "plt.show()"
   ]
  },
  {
   "cell_type": "markdown",
   "metadata": {},
   "source": [
    "## Kernel Ridge Regression ($\\partial f$)"
   ]
  },
  {
   "cell_type": "code",
   "execution_count": 14,
   "metadata": {},
   "outputs": [
    {
     "name": "stdout",
     "output_type": "stream",
     "text": [
      "Fitting 2 folds for each of 100 candidates, totalling 200 fits\n",
      "Best score for $||\\partial f||$: -0.685999738757\n",
      "Best sigma: 0.0774263682681\n",
      "Best lambda: 0.00035938136638\n"
     ]
    },
    {
     "name": "stderr",
     "output_type": "stream",
     "text": [
      "[Parallel(n_jobs=1)]: Done 200 out of 200 | elapsed:    0.6s finished\n"
     ]
    }
   ],
   "source": [
    "# initialize the parameter candidates\n",
    "sigma_candidates = np.logspace(-2, 2, num=10)\n",
    "lam_candidates = np.logspace(-7, 1, num=10)\n",
    "\n",
    "parameter_grid = dict(sigma=sigma_candidates,\n",
    "                      lam=lam_candidates)\n",
    "\n",
    "# initialize grid search class\n",
    "gs_model['df'] = GridSearchCV(estimator=KRR(reg='df'),\n",
    "                             param_grid=parameter_grid,\n",
    "                             n_jobs=1,\n",
    "                             verbose=1,\n",
    "                             cv=2,\n",
    "                             scoring='neg_mean_absolute_error',\n",
    "                             return_train_score=True)\n",
    "        \n",
    "# train classifier\n",
    "gs_model['df'].fit(x['data'], y['data'])\n",
    "\n",
    "# View the accuracy score\n",
    "print(r'Best score for $||\\partial f||$:', gs_model['df'].best_score_) \n",
    "\n",
    "# View the best parameters for the model found using grid search\n",
    "print('Best sigma:',gs_model['df'].best_estimator_.sigma) \n",
    "print('Best lambda:',gs_model['df'].best_estimator_.lam)"
   ]
  },
  {
   "cell_type": "code",
   "execution_count": 15,
   "metadata": {},
   "outputs": [],
   "source": [
    "# gather scores\n",
    "scores = gs_model['df'].cv_results_['mean_test_score'].reshape(len(lam_candidates),\n",
    "                                                               len(sigma_candidates))\n",
    "\n",
    "# scale scores\n",
    "scores = scores/scores.max()\n",
    "\n",
    "min_sig = np.argmin(scores, axis=1)\n",
    "min_lam = np.argmin(scores, axis=0)"
   ]
  },
  {
   "cell_type": "code",
   "execution_count": 16,
   "metadata": {},
   "outputs": [
    {
     "data": {
      "image/png": "[encoded data removed]",
      "text/plain": [
       "<matplotlib.figure.Figure at 0x7f4f002fd2e8>"
      ]
     },
     "metadata": {},
     "output_type": "display_data"
    }
   ],
   "source": [
    "fig, ax = plt.subplots()\n",
    "\n",
    "cax = ax.imshow(scores, cmap=plt.cm.hot)\n",
    "# plt.scatter(min_sig, min_lam,\n",
    "#          color='green', marker='+',s=20)\n",
    "\n",
    "formatter = ticker.ScalarFormatter(useMathText=True)\n",
    "formatter.set_scientific(True)\n",
    "\n",
    "# def format_ticks(value, tick_number):\n",
    "    \n",
    "\n",
    "fmt_sigma = ['%1.1e' % i for i in sigma_candidates.tolist()]\n",
    "fmt_lam = ['%1.1e' % i for i in lam_candidates.tolist()]\n",
    "\n",
    "ax.set_xlabel(r'$\\lambda$')\n",
    "ax.set_xticks(np.arange(len(fmt_lam)))\n",
    "ax.set_xticklabels(fmt_lam, rotation=90)\n",
    "\n",
    "ax.set_ylabel(r'$\\sigma$', rotation=0)\n",
    "ax.set_yticks(np.arange(len(fmt_sigma)))\n",
    "ax.set_yticklabels(fmt_sigma)\n",
    "\n",
    "cbar = fig.colorbar(cax)\n",
    "ax.set_title('Validation Accuracy')\n",
    "plt.show()"
   ]
  },
  {
   "cell_type": "code",
   "execution_count": 17,
   "metadata": {},
   "outputs": [
    {
     "data": {
      "image/png": "[encoded data removed]",
      "text/plain": [
       "<matplotlib.figure.Figure at 0x7f4f0032a3c8>"
      ]
     },
     "metadata": {},
     "output_type": "display_data"
    }
   ],
   "source": [
    "# initialize model\n",
    "krr_model = KRR(reg='df',\n",
    "                lam=best_lambda,\n",
    "                sigma=best_sigma)\n",
    "\n",
    "# fit to data\n",
    "krr_model.fit(x['data'], y['data'])\n",
    "\n",
    "# predict\n",
    "y_pred = krr_model.predict(x['plot'])\n",
    "\n",
    "\n",
    "fig, ax = plt.subplots()\n",
    "\n",
    "# plot the signal\n",
    "ax.plot(x['data'], x['signal'], color='y', linewidth=3, label='Signal')\n",
    "\n",
    "# plot kernel model\n",
    "ax.plot(x['plot'], y_pred, 'k+', linewidth=3, label=r'KRR Model, $||\\partial f||$')\n",
    "\n",
    "# plot data\n",
    "ax.scatter(x['data'], y['data'], color='r', label='Data')\n",
    "\n",
    "ax.tick_params(\n",
    "    axis='both',\n",
    "    which='both',\n",
    "    bottom='off',\n",
    "    left='off',\n",
    "    top='off',\n",
    "    labelbottom='off',\n",
    "    labelleft='off')\n",
    "\n",
    "# get rid of frame\n",
    "for spine in plt.gca().spines.values():\n",
    "    spine.set_visible(False)\n",
    "\n",
    "ax.legend(fontsize=14)\n",
    "plt.tight_layout()\n",
    "\n",
    "plt.show()"
   ]
  },
  {
   "cell_type": "markdown",
   "metadata": {},
   "source": [
    "### KRR ($||\\partial^2 f||$)"
   ]
  },
  {
   "cell_type": "code",
   "execution_count": 21,
   "metadata": {},
   "outputs": [
    {
     "name": "stdout",
     "output_type": "stream",
     "text": [
      "Fitting 5 folds for each of 100 candidates, totalling 500 fits\n",
      "Best score for $||\\partial f||$: -0.685999738757\n",
      "Best sigma: 12.9154966501\n",
      "Best lambda: 0.00278255940221\n"
     ]
    },
    {
     "name": "stderr",
     "output_type": "stream",
     "text": [
      "[Parallel(n_jobs=1)]: Done 500 out of 500 | elapsed:    4.3s finished\n"
     ]
    }
   ],
   "source": [
    "# initialize the parameter candidates\n",
    "sigma_candidates = np.logspace(-2, 2, num=10)\n",
    "lam_candidates = np.logspace(-7, 3, num=10)\n",
    "\n",
    "parameter_grid = dict(sigma=sigma_candidates,\n",
    "                      lam=lam_candidates)\n",
    "\n",
    "# initialize grid search class\n",
    "gs_model['d2f'] = GridSearchCV(estimator=KRR(reg='d2f'),\n",
    "                             param_grid=parameter_grid,\n",
    "                             n_jobs=1,\n",
    "                             verbose=1,\n",
    "                             cv=5,\n",
    "                             scoring='neg_mean_absolute_error',\n",
    "                             return_train_score=True)\n",
    "        \n",
    "# train classifier\n",
    "gs_model['d2f'].fit(x['data'], y['data'])\n",
    "\n",
    "# View the accuracy score\n",
    "print(r'Best score for $||\\partial f||$:', gs_model['df'].best_score_) \n",
    "\n",
    "# View the best parameters for the model found using grid search\n",
    "print('Best sigma:',gs_model['d2f'].best_estimator_.sigma) \n",
    "print('Best lambda:',gs_model['d2f'].best_estimator_.lam)"
   ]
  },
  {
   "cell_type": "code",
   "execution_count": 22,
   "metadata": {
    "scrolled": false
   },
   "outputs": [],
   "source": [
    "# gather scores\n",
    "scores = gs_model['d2f'].cv_results_['mean_test_score'].reshape(len(lam_candidates),\n",
    "                                                               len(sigma_candidates))\n",
    "\n",
    "# scale scores\n",
    "scores = scores/scores.max()\n",
    "\n",
    "min_sig = np.argmin(scores, axis=1)\n",
    "min_lam = np.argmin(scores, axis=0)"
   ]
  },
  {
   "cell_type": "code",
   "execution_count": 23,
   "metadata": {},
   "outputs": [
    {
     "data": {
      "image/png": "[encoded data removed]",
      "text/plain": [
       "<matplotlib.figure.Figure at 0x7f4f0034b470>"
      ]
     },
     "metadata": {},
     "output_type": "display_data"
    }
   ],
   "source": [
    "fig, ax = plt.subplots()\n",
    "\n",
    "cax = ax.imshow(scores, cmap=plt.cm.hot)\n",
    "# plt.scatter(min_sig, min_lam,\n",
    "#          color='green', marker='+',s=20)\n",
    "\n",
    "formatter = ticker.ScalarFormatter(useMathText=True)\n",
    "formatter.set_scientific(True)\n",
    "\n",
    "# def format_ticks(value, tick_number):\n",
    "    \n",
    "\n",
    "fmt_sigma = ['%1.1e' % i for i in sigma_candidates.tolist()]\n",
    "fmt_lam = ['%1.1e' % i for i in lam_candidates.tolist()]\n",
    "\n",
    "ax.set_xlabel(r'$\\lambda$')\n",
    "ax.set_xticks(np.arange(len(fmt_lam)))\n",
    "ax.set_xticklabels(fmt_lam, rotation=90)\n",
    "\n",
    "ax.set_ylabel(r'$\\sigma$', rotation=0)\n",
    "ax.set_yticks(np.arange(len(fmt_sigma)))\n",
    "ax.set_yticklabels(fmt_sigma)\n",
    "\n",
    "cbar = fig.colorbar(cax)\n",
    "ax.set_title('Validation Accuracy')\n",
    "plt.show()"
   ]
  },
  {
   "cell_type": "code",
   "execution_count": null,
   "metadata": {},
   "outputs": [],
   "source": [
    "# initialize model\n",
    "krr_model = KRR(reg='d2f',\n",
    "                lam=best_lambda,\n",
    "                sigma=best_sigma)\n",
    "\n",
    "# fit to data\n",
    "krr_model.fit(x['data'], y['data'])\n",
    "\n",
    "# predict\n",
    "y_pred = krr_model.predict(x['plot'])\n",
    "\n",
    "\n",
    "fig, ax = plt.subplots()\n",
    "\n",
    "# plot the signal\n",
    "ax.plot(x['data'], x['signal'], color='y', linewidth=3, label='Signal')\n",
    "\n",
    "# plot kernel model\n",
    "ax.plot(x['plot'], y_pred, 'k+', linewidth=3, label=r'KRR Model, $||\\partial^2 f||$')\n",
    "\n",
    "# plot data\n",
    "ax.scatter(x['data'], y['data'], color='r', label='Data')\n",
    "\n",
    "ax.tick_params(\n",
    "    axis='both',\n",
    "    which='both',\n",
    "    bottom='off',\n",
    "    left='off',\n",
    "    top='off',\n",
    "    labelbottom='off',\n",
    "    labelleft='off')\n",
    "\n",
    "# get rid of frame\n",
    "for spine in plt.gca().spines.values():\n",
    "    spine.set_visible(False)\n",
    "\n",
    "ax.legend(fontsize=14)\n",
    "plt.tight_layout()\n",
    "\n",
    "plt.show()"
   ]
  }
 ],
 "metadata": {
  "kernelspec": {
   "display_name": "Python 3",
   "language": "python",
   "name": "python3"
  },
  "language_info": {
   "codemirror_mode": {
    "name": "ipython",
    "version": 3
   },
   "file_extension": ".py",
   "mimetype": "text/x-python",
   "name": "python",
   "nbconvert_exporter": "python",
   "pygments_lexer": "ipython3",
   "version": "3.6.4"
  }
 },
 "nbformat": 4,
 "nbformat_minor": 2
}
