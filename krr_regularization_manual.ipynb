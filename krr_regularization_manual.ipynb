{
 "cells": [
  {
   "cell_type": "markdown",
   "metadata": {},
   "source": [
    "# Kernel Derivatives: Regularization"
   ]
  },
  {
   "cell_type": "markdown",
   "metadata": {},
   "source": [
    "Date: 4th December, 2017\n",
    "\n",
    "In this notebook, I will be exploring how some different derivatives can be used as regularization parameters. This will be used in the context of Kernel Ridge Regression (KRR) and Gaussian Process Regression (GPR).\n",
    "\n",
    "The general regression problem:\n",
    "\n",
    "$$\\mathcal{C} = \\frac{1}{n} \\sum \\phi \\left( y_i, f(x_i) \\right) + \\text{ penalty}(f)$$\n",
    "\n",
    "where:\n",
    "\n",
    "* $\\phi$ is the estimation error \n",
    "* penalty($f$) is the regularization term.\n",
    "\n",
    "Assume we have the following cost function for ridge regression where we have a regularization penalty (scaled by $\\lambda$) added to the cost term like so ([1]):\n",
    "\n",
    "$$\\mathcal{C} = \\frac{1}{n} \\sum_{i=1}^{n} \\left( y_i - f(x_i) \\right)^2 + \\lambda ||f||^{2}_{\\mathcal{H}}$$\n",
    "\n",
    "where:\n",
    "\n",
    "* $\\alpha$ are the weights\n",
    "* $K$ is the kernel matrix\n",
    "* $\\lambda$ is the trade off parameter between the regularization and the mean squared error.\n",
    "* $\\Omega$ is the regularization that we choose (e.g. $||w||$, $||f||$, $||\\partial f||$, $||\\partial^2 f||$)\n",
    "\n",
    "[1]: https://people.eecs.berkeley.edu/~bartlett/courses/281b-sp08/10.pdf\n",
    "\n",
    "This results in the following formula:\n",
    "\n",
    "$$\\mathbf{w} = (\\mathbf{x}^T\\mathbf{x}+ \\lambda \\mathbf{I})^{-1} \\mathbf{x}^T \\mathbf{y}$$"
   ]
  },
  {
   "cell_type": "markdown",
   "metadata": {},
   "source": [
    "## Derivation"
   ]
  },
  {
   "cell_type": "markdown",
   "metadata": {},
   "source": [
    "##### Residual Sum of  Squares (RSS)\n",
    "Cost function:\n",
    "\n",
    "\\begin{align}\n",
    "\\text{C}_{RS}\\left(w, \\lambda \\right) &= ||y-Xw||^2 \\\\\n",
    "\\text{C}_{RSS}\\left(w, \\lambda \\right) &= \\left( y-Xw \\right)^T \\left( y-Xw \\right) \\\\\n",
    "\\text{C}_{RSS}\\left(w, \\lambda \\right) &= y^Ty - 2X^T w^T y + w^T \\left( X^T X \\right)w\n",
    "\\end{align}"
   ]
  },
  {
   "cell_type": "markdown",
   "metadata": {},
   "source": [
    "Derivative of the cost function w.r.t. $w$:\n",
    "\n",
    "\\begin{align}\n",
    "\\frac{\\partial \\text{C}_{RSS}\\left(w, \\lambda \\right)}{\\partial w} &= - 2X^Ty + 2X^T Xw = 0 \\\\\n",
    "\\left( X^T Xw \\right) &=  X^Ty \\\\\n",
    "w &= \\left( X^T X\\right)^{-1} X^Ty\n",
    "\\end{align}"
   ]
  },
  {
   "cell_type": "markdown",
   "metadata": {},
   "source": [
    "##### Ridge Regression (RR) - Penalized Sum of Squares\n",
    "Cost function:\n",
    "\n",
    "\\begin{align}\n",
    "\\text{C}_{RR}\\left(w, \\lambda \\right) &= ||y-Xw||^2 + \\lambda ||w|| \\\\\n",
    "\\text{C}_{RR}\\left(w, \\lambda \\right) &= \\left( y-Xw \\right)^T \\left( y-Xw \\right) + \\lambda w^T w \\\\\n",
    "\\text{C}_{RR}\\left(w, \\lambda \\right) &= y^Ty - 2X^T w^T y + w^T \\left( X^T X \\right)w + \\lambda w^T w\n",
    "\\end{align}"
   ]
  },
  {
   "cell_type": "markdown",
   "metadata": {},
   "source": [
    "Derivative of the cost function w.r.t. $w$:\n",
    "\n",
    "\\begin{align}\n",
    "\\frac{\\partial \\text{C}_{RSS}\\left(w, \\lambda \\right)}{\\partial w} &= 0 - 2X^Ty + 2X^T Xw + 2\\lambda w = 0 \\\\\n",
    "\\left( X^T Xw + \\lambda w \\right) &=  X^Ty \\\\\n",
    "w &= \\left( X^T X + \\lambda I \\right)^{-1} X^Ty\n",
    "\\end{align}\n"
   ]
  },
  {
   "cell_type": "markdown",
   "metadata": {},
   "source": [
    "##### Kernel Ridge Regression (KRR)\n",
    "\n",
    "Let:\n",
    "\n",
    "* $X=\\phi$\n",
    "* $w=\\phi^T \\alpha$\n",
    "* $K=\\phi^T \\phi$\n",
    "\n",
    "Using the cost function for RR, $w = \\left( X^T X + \\lambda I \\right)^{-1} X^Ty$, we can replace all values with the substitutions from above:\n",
    "\n",
    "\\begin{align}\n",
    "\\phi^T \\alpha &= \\left( \\phi^T \\phi + \\lambda I \\right)^{-1} \\phi^Ty \\\\\n",
    "\\alpha &= \\left( \\phi^T \\phi + \\lambda I \\right)^{-1} y\n",
    "\\end{align}"
   ]
  },
  {
   "cell_type": "markdown",
   "metadata": {},
   "source": [
    "##### Kernel Ridge Regression w/ Derivative (KRRD) "
   ]
  },
  {
   "cell_type": "markdown",
   "metadata": {},
   "source": [
    "Let $f=K\\alpha$.\n",
    "\n",
    "Our Cost function is as follows:\n",
    "\n",
    "\n",
    "\\begin{align}\n",
    "\\text{C}_{KRRD}\\left(\\alpha, \\lambda \\right) &= ||y-f||^2 + \\lambda ||Df|| \\\\\n",
    "\\text{C}_{KRRD}\\left(\\alpha, \\lambda \\right) &= \\left( y-K\\alpha \\right)^T \\left( y-K\\alpha \\right) + \\lambda \\alpha^T \\triangledown K^T \\triangledown K \\alpha \\\\\n",
    "\\text{C}_{KRRD}\\left(\\alpha, \\lambda \\right) &= y^Ty - 2K^T \\alpha^T y + \\alpha^T K^T K \\alpha + \\lambda \\alpha^T \\triangledown K^T \\triangledown K \\alpha\n",
    "\\end{align}"
   ]
  },
  {
   "cell_type": "markdown",
   "metadata": {},
   "source": [
    "Derivative of the cost function w.r.t. $\\alpha$:\n",
    "\n",
    "\\begin{align}\n",
    "\\frac{\\partial \\text{C}_{KRRD}\\left(\\alpha, \\lambda \\right)}{\\partial w} &= - 2K^Ty + 2K^T K\\alpha + 2\\lambda \\triangledown K^T \\triangledown K \\alpha = 0 \\\\\n",
    " \\left( K^T K \\alpha+ \\lambda \\triangledown K^T \\triangledown K \\alpha \\right) &=  K^Ty \\\\\n",
    "\\alpha &=  \\left( K^T K + \\lambda \\triangledown K^T \\triangledown K \\right)^{-1} K^Ty\n",
    "\\end{align}"
   ]
  },
  {
   "cell_type": "markdown",
   "metadata": {},
   "source": [
    "##### Kernel Ridge Regression w/ 2nd Derivative (KRRD2) "
   ]
  },
  {
   "cell_type": "markdown",
   "metadata": {},
   "source": [
    "\\begin{align}\n",
    "\\text{C}_{KRRD}\\left(\\alpha, \\lambda \\right) &= ||y-f||^2 + \\lambda ||D^2f|| \\\\\n",
    "\\text{C}_{KRRD}\\left(\\alpha, \\lambda \\right) &= \\left( y-K\\alpha \\right)^T \\left( y-K\\alpha \\right) + \\lambda \\alpha^T \\left( \\triangledown^2 K \\right)^T \\triangledown^2 K \\alpha \\\\\n",
    "\\text{C}_{KRRD}\\left(\\alpha, \\lambda \\right) &= y^Ty - 2K^T \\alpha^T y + \\alpha^T K^T K \\alpha + \\lambda \\alpha^T \\left( \\triangledown^2 K \\right)^T \\triangledown^2 K \\alpha\n",
    "\\end{align}"
   ]
  },
  {
   "cell_type": "markdown",
   "metadata": {},
   "source": [
    "Derivative of the cost function w.r.t. $\\alpha$:\n",
    "\n",
    "\\begin{align}\n",
    "\\frac{\\partial \\text{C}_{KRRD}\\left(\\alpha, \\lambda \\right)}{\\partial w} &= - 2K^Ty + 2K^T K\\alpha + 2\\lambda \\left(\\triangledown^2 K\\right)^T \\triangledown^2 K \\alpha = 0 \\\\\n",
    " \\left( K^T K \\alpha+ \\lambda \\left(\\triangledown^2 K\\right)^T \\triangledown^2 K \\alpha \\right) &=  K^Ty \\\\\n",
    "\\alpha &=  \\left( K^T K + \\lambda \\left(\\triangledown^2 K\\right)^T \\triangledown^2 K \\right)^{-1} K^Ty\n",
    "\\end{align}\n"
   ]
  },
  {
   "cell_type": "code",
   "execution_count": 1,
   "metadata": {
    "collapsed": true
   },
   "outputs": [],
   "source": [
    "import numpy as np\n",
    "\n",
    "from time import time\n",
    "\n",
    "from scipy.spatial.distance import pdist\n",
    "\n",
    "from sklearn.metrics import (make_scorer, mean_squared_error,\n",
    "                             mean_absolute_error)\n",
    "from sklearn.metrics.pairwise import rbf_kernel\n",
    "from sklearn.base import BaseEstimator, RegressorMixin\n",
    "from sklearn.preprocessing import MinMaxScaler\n",
    "from sklearn.model_selection import (GridSearchCV, learning_curve, \n",
    "                                     validation_curve, StratifiedShuffleSplit,\n",
    "                                     KFold, train_test_split)\n",
    "from scipy.linalg import cho_solve, cho_factor\n",
    "from sklearn.linear_model.ridge import _solve_cholesky_kernel as chol_solver\n",
    "from matplotlib import pyplot as plt\n",
    "from matplotlib import ticker\n",
    "%matplotlib inline\n",
    "\n",
    "from rbf_derivative_cy import rbf_derivative\n",
    "from krr import KRR"
   ]
  },
  {
   "cell_type": "code",
   "execution_count": 2,
   "metadata": {},
   "outputs": [
    {
     "name": "stdout",
     "output_type": "stream",
     "text": [
      "Standard Deviation, Signal: 0.725\n",
      "\n",
      "Standard Deviation, Noise: 0.300\n",
      "\n",
      "Signal-to-Noise Ratio (SNR): 44.197\n",
      "\n",
      "Shape of training: (112, 1)\n",
      "Shape of validation: (28, 1)\n",
      "Shape of testing: (60, 1)\n"
     ]
    },
    {
     "name": "stderr",
     "output_type": "stream",
     "text": [
      "/Users/eman/anaconda3/lib/python3.6/site-packages/sklearn/model_selection/_split.py:2026: FutureWarning: From version 0.21, test_size will always complement train_size unless both are specified.\n",
      "  FutureWarning)\n"
     ]
    }
   ],
   "source": [
    "# set the seed to zero for reproducibility\n",
    "seed = 123\n",
    "np.random.seed(seed)\n",
    "\n",
    "x = {}\n",
    "y = {}\n",
    "\n",
    "# ----------------------------------\n",
    "# GENERATE SIGNAL\n",
    "# ----------------------------------\n",
    "\n",
    "# generate an x signal between 0 and 20.\n",
    "num_data = 200\n",
    "x['data'] = np.linspace(0, 3*np.pi, num=num_data)[:, np.newaxis]       # generate points between 0 and 20\n",
    "\n",
    "# signal function (analytical)\n",
    "def f(x, scaling=0.1, n_derivative=0):\n",
    "    \n",
    "    # 0th derivative\n",
    "    if n_derivative is 0:\n",
    "        \n",
    "        value =  np.sin(2 * np.pi * scaling * x)\n",
    "    \n",
    "    # 1st derivative\n",
    "    elif n_derivative is 1:\n",
    "        \n",
    "        value = (2 * np.pi * scaling) * np.cos(2 * np.pi * scaling * x)\n",
    "    \n",
    "    # 2nd derivative\n",
    "    elif n_derivative is 2:\n",
    "        \n",
    "        value = -(2 * np.pi * scaling)**2 * np.sin(2 * np.pi * scaling * x)\n",
    "    \n",
    "    else:\n",
    "        raise ValueError('Value needs to be between 0 and 1.')\n",
    "        \n",
    "    return value\n",
    "\n",
    "def get_derivative(func, x):\n",
    "    h = 0.0001\n",
    "    return (func(x + h) - func(x)) / h\n",
    "\n",
    "x['signal'] = f(x['data'])                   # 2 + sin(x)\n",
    "x['signal'] = x['signal']/x['signal'].max()  # normalize\n",
    "std_signal = np.std(x['signal'])          \n",
    "\n",
    "\n",
    "\n",
    "print('Standard Deviation, Signal: {:.3f}\\n'.format(std_signal))\n",
    "\n",
    "# ----------------------------------\n",
    "# GENERATE NOISE\n",
    "# ----------------------------------\n",
    "\n",
    "# generate a noise sample with a sc\n",
    "std_noise = 0.3    # scale parameter of 0.1\n",
    "\n",
    "print('Standard Deviation, Noise: {:.3f}\\n'.format(std_noise))\n",
    "\n",
    "snr = 20 * np.log(np.std(x['data'])/std_noise)\n",
    "\n",
    "print('Signal-to-Noise Ratio (SNR): {:.3f}\\n'.format(snr))\n",
    "\n",
    "size = np.shape(x['data'])\n",
    "\n",
    "x['noise'] = np.random.normal(scale=std_noise, size=size)\n",
    "\n",
    "# ----------------------------------\n",
    "# GENERATE DATA\n",
    "# ----------------------------------\n",
    "\n",
    "y['data'] = x['signal'] + x['noise']\n",
    "\n",
    "#\n",
    "# ANALYTICAL DERIVATIVES\n",
    "# \n",
    "\n",
    "# -------------------------------\n",
    "# TRAINING TESTING SPLIT\n",
    "# ------------------------------\n",
    "train_percentage = 0.7\n",
    "validation_percentage = 0.2\n",
    "\n",
    "x['train'], x['test'], y['train'], y['test'] = \\\n",
    "    train_test_split(x['data'], y['data'], train_size=train_percentage,\n",
    "                     random_state=seed)\n",
    "    \n",
    "x['train'], x['validation'], y['train'], y['validation'] = \\\n",
    "    train_test_split(x['train'], y['train'], train_size=1.0-validation_percentage,\n",
    "                     random_state=seed)\n",
    "    \n",
    "print('Shape of training: {}'.format(np.shape(x['train'])))\n",
    "print('Shape of validation: {}'.format(np.shape(x['validation'])))\n",
    "print('Shape of testing: {}'.format(np.shape(x['test'])))"
   ]
  },
  {
   "cell_type": "markdown",
   "metadata": {},
   "source": [
    "### KRR ($||w||$)"
   ]
  },
  {
   "cell_type": "code",
   "execution_count": 3,
   "metadata": {},
   "outputs": [
    {
     "name": "stdout",
     "output_type": "stream",
     "text": [
      "Shape of grid: (30, 30)\n",
      "Number of sigmas: 30\n",
      "Number of lambdas: 30\n",
      "inf\n",
      "0.677870594653\n",
      "0.676145551837\n",
      "0.65027852017\n",
      "0.572382507548\n",
      "0.459648014835\n",
      "0.439069883766\n",
      "0.439069883766\n",
      "0.439069883766\n",
      "0.439069883766\n",
      "0.439069883765\n",
      "0.439069883737\n",
      "0.439069883066\n",
      "0.439069866997\n",
      "0.439069482138\n",
      "0.439060266079\n",
      "0.438840349139\n",
      "0.433996204358\n",
      "0.416251130803\n",
      "0.398359760303\n",
      "0.36560872814\n",
      "0.312394412388\n",
      "0.267603448068\n",
      "0.262943194546\n",
      "0.249734845962\n",
      "0.238058395639\n",
      "0.237321628417\n",
      "Minimum Score: 0.2350123142382563\n",
      "Best Lambda: 4.893900918477499\n",
      "Best Sigma: 1.1721022975334805\n",
      "Best Lambda Index: 15\n",
      "Best Sigma Index: 15\n"
     ]
    }
   ],
   "source": [
    "# initialize the parameter candidates\n",
    "sigma_candidates = np.logspace(-2, 2, num=30)\n",
    "lam_candidates = np.hstack((np.logspace(-20, 20, num=30)))\n",
    "\n",
    "from sklearn.model_selection import KFold, train_test_split\n",
    "\n",
    "# initialize grid\n",
    "score_grid = np.empty(shape=(len(sigma_candidates), len(lam_candidates)))\n",
    "\n",
    "print('Shape of grid: {}'.format(score_grid.shape))\n",
    "print('Number of sigmas: {}'.format(score_grid.shape[0]))\n",
    "print('Number of lambdas: {}'.format(score_grid.shape[1]))\n",
    "min_score = np.inf\n",
    "\n",
    "# loop through sigma values\n",
    "for (i, isigma) in enumerate(sigma_candidates):\n",
    "    \n",
    "    # loop through lambda values\n",
    "    for (j, ilam) in enumerate(lam_candidates):\n",
    "        \n",
    "        # initialize model\n",
    "        krr_model = KRR(reg='w',\n",
    "                        solver='reg',\n",
    "                        lam=ilam,\n",
    "                        sigma=isigma,\n",
    "                        rbf_solver='cy')\n",
    "        \n",
    "        # fit to data\n",
    "        krr_model.fit(x['train'], y['train'])\n",
    "\n",
    "        # predict\n",
    "        y_pred = krr_model.predict(x['validation'])\n",
    "\n",
    "        # save the score\n",
    "        score_grid[i, j] = mean_absolute_error(y['validation'], y_pred)\n",
    "        \n",
    "        # save best score\n",
    "        if score_grid[i, j] < min_score:\n",
    "            \n",
    "            print(min_score)\n",
    "            min_score = score_grid[i, j]\n",
    "            best_lam_idx = j\n",
    "            best_sigma_idx = i\n",
    "            best_lam = ilam\n",
    "            best_sigma = isigma\n",
    "\n",
    "\n",
    "# normalize score grid\n",
    "score_grid = score_grid\n",
    "\n",
    "print('Minimum Score: {}'.format(min_score))\n",
    "print('Best Lambda: {}'.format(best_lam))\n",
    "print('Best Sigma: {}'.format(best_sigma))\n",
    "print('Best Lambda Index: {}'.format(best_lam_idx))\n",
    "print('Best Sigma Index: {}'.format(best_sigma_idx))\n",
    "\n",
    "# print('\\n {}'.format(sigma_candidates))\n",
    "# print('\\n {}'.format(lam_candidates))\n",
    "\n",
    "# print('\\n {}'.format(score_grid[:,:]))\n",
    "# print('\\n {}'.format(score_grid[:,best_lam_idx]))\n",
    "# print('\\n {}'.format(score_grid[best_sigma_idx,:]))\n",
    "# print('\\n {}'.format(score_grid[best_sigma_idx,best_lam_idx]))"
   ]
  },
  {
   "cell_type": "markdown",
   "metadata": {},
   "source": [
    "## Find the Best Score"
   ]
  },
  {
   "cell_type": "code",
   "execution_count": 4,
   "metadata": {
    "collapsed": true
   },
   "outputs": [],
   "source": [
    "# # normalize score grid\n",
    "# score_grid = score_grid\n",
    "\n",
    "# print('Score Grid: \\n{}\\n'.format(score_grid))\n",
    "\n",
    "# # minimum mae\n",
    "# min_mae = np.min(score_grid)\n",
    "\n",
    "# print('Minimum Error: \\n{}\\n'.format(min_mae))\n",
    "\n",
    "# # find values with minimum score\n",
    "# ibest_lambda, ibest_sigma = np.where(min_mae == score_grid)\n",
    "\n",
    "# print('ith Sigma: \\n{}\\n'.format(ibest_sigma))\n",
    "# print('jth Lambda: \\n{}\\n'.format(ibest_lambda))\n",
    "\n",
    "# # get best sigma and lambdas\n",
    "# best_sigma = sigma_candidates[ibest_sigma]\n",
    "# best_lambda = lam_candidates[ibest_lambda]\n",
    "\n",
    "# print('Best Sigma: \\n{}\\n'.format(best_sigma))\n",
    "# print('Best Lambda: \\n{}\\n'.format(best_lambda))\n",
    "\n",
    "# # maximum mae\n",
    "# max_mae = np.max(score_grid)\n",
    "\n",
    "# print('Maximum Error: \\n{}\\n'.format(max_mae))\n",
    "\n",
    "# # find values with minimum score\n",
    "# iworst_sigma, iworst_lambda = np.where(max_mae == score_grid)\n",
    "\n",
    "# print('ith Sigma: \\n{}\\n'.format(iworst_sigma))\n",
    "# print('jth Lambda: \\n{}\\n'.format(iworst_lambda))\n",
    "\n",
    "# # get best sigma and lambdas\n",
    "# worst_sigma = sigma_candidates[iworst_sigma]\n",
    "# worst_lambda = lam_candidates[iworst_lambda]\n",
    "\n",
    "# print('Worst Sigma: \\n{}\\n'.format(worst_sigma))\n",
    "# print('Worst Lambda: \\n{}\\n'.format(worst_lambda))"
   ]
  },
  {
   "cell_type": "code",
   "execution_count": 5,
   "metadata": {},
   "outputs": [
    {
     "data": {
      "image/png": "[encoded data removed]",
      "text/plain": [
       "<matplotlib.figure.Figure at 0x110a28b00>"
      ]
     },
     "metadata": {},
     "output_type": "display_data"
    }
   ],
   "source": [
    "# initialize the parameter candidates\n",
    "fig, ax = plt.subplots()\n",
    "\n",
    "# plot the colormap\n",
    "aux_score_grid = score_grid**0.001\n",
    "cax = ax.imshow(aux_score_grid, interpolation='bicubic', \n",
    "                origin='upper',\n",
    "                vmin = aux_score_grid.min(), vmax = aux_score_grid.min()*1.001)\n",
    "\n",
    "# # plot the minimum values\n",
    "# plt.plot(best_sigma_idx, best_lam_idx,\n",
    "#          color='red', marker='+', markersize=15)\n",
    "\n",
    "formatter = ticker.ScalarFormatter(useMathText=True)\n",
    "formatter.set_scientific(True)\n",
    "\n",
    "# def format_ticks(value, tick_number):\n",
    "    \n",
    "\n",
    "fmt_sigma = ['%1.1e' % i for i in sigma_candidates.tolist()]\n",
    "fmt_lam = ['%1.1e' % i for i in lam_candidates.tolist()]\n",
    "\n",
    "ax.set_xlabel(r'$\\lambda$')\n",
    "ax.set_xticks(np.arange(len(fmt_lam)))\n",
    "ax.set_xticklabels(fmt_lam, rotation=90)\n",
    "\n",
    "ax.set_ylabel(r'$\\sigma$', rotation=0)\n",
    "ax.set_yticks(np.arange(len(fmt_sigma)))\n",
    "ax.set_yticklabels(fmt_sigma)\n",
    "\n",
    "cbar = fig.colorbar(cax)\n",
    "ax.set_title('Validation Accuracy')\n",
    "plt.show()"
   ]
  },
  {
   "cell_type": "code",
   "execution_count": 6,
   "metadata": {},
   "outputs": [
    {
     "name": "stdout",
     "output_type": "stream",
     "text": [
      "Error Test Set: 0.2774325833066654\n"
     ]
    },
    {
     "data": {
      "image/png": "[encoded data removed]",
      "text/plain": [
       "<matplotlib.figure.Figure at 0x110a80080>"
      ]
     },
     "metadata": {},
     "output_type": "display_data"
    }
   ],
   "source": [
    "# initialize model\n",
    "krr_model = KRR(reg='w',\n",
    "                lam=best_lam,\n",
    "                sigma=best_sigma)\n",
    "\n",
    "# fit to data\n",
    "krr_model.fit(x['train'], y['train'])\n",
    "\n",
    "# predict\n",
    "y_pred = krr_model.predict(x['test'])\n",
    "\n",
    "print('Error Test Set: {}'.format(mean_absolute_error(y['test'], y_pred)))\n",
    "\n",
    "fig, ax = plt.subplots()\n",
    "\n",
    "# plot the signal\n",
    "ax.plot(x['data'], x['signal'], color='y', linewidth=3, label='Signal')\n",
    "\n",
    "# plot kernel model\n",
    "ax.plot(x['test'], y_pred, 'k+', linewidth=3, label=r'KRR Model, $||w||$')\n",
    "\n",
    "# plot data\n",
    "ax.scatter(x['train'], y['train'], color='r', label='Data')\n",
    "\n",
    "ax.tick_params(\n",
    "    axis='both',\n",
    "    which='both',\n",
    "    bottom='off',\n",
    "    left='off',\n",
    "    top='off',\n",
    "    labelbottom='off',\n",
    "    labelleft='off')\n",
    "\n",
    "# get rid of frame\n",
    "for spine in plt.gca().spines.values():\n",
    "    spine.set_visible(False)\n",
    "\n",
    "ax.legend(fontsize=14)\n",
    "plt.tight_layout()\n",
    "\n",
    "plt.show()"
   ]
  },
  {
   "cell_type": "markdown",
   "metadata": {},
   "source": [
    "## Kernel Ridge Regression ($\\partial f$)"
   ]
  },
  {
   "cell_type": "code",
   "execution_count": 10,
   "metadata": {},
   "outputs": [
    {
     "name": "stdout",
     "output_type": "stream",
     "text": [
      "Shape of grid: (10, 10)\n",
      "Number of sigmas: 10\n",
      "Number of lambdas: 10\n",
      "inf\n",
      "0.677870594653\n"
     ]
    },
    {
     "ename": "LinAlgError",
     "evalue": "Singular matrix",
     "output_type": "error",
     "traceback": [
      "\u001b[0;31m---------------------------------------------------------------------------\u001b[0m",
      "\u001b[0;31mLinAlgError\u001b[0m                               Traceback (most recent call last)",
      "\u001b[0;32m<ipython-input-10-00a3e3674ba2>\u001b[0m in \u001b[0;36m<module>\u001b[0;34m()\u001b[0m\n\u001b[1;32m     26\u001b[0m \u001b[0;34m\u001b[0m\u001b[0m\n\u001b[1;32m     27\u001b[0m         \u001b[0;31m# fit to data\u001b[0m\u001b[0;34m\u001b[0m\u001b[0;34m\u001b[0m\u001b[0m\n\u001b[0;32m---> 28\u001b[0;31m         \u001b[0mkrr_model\u001b[0m\u001b[0;34m.\u001b[0m\u001b[0mfit\u001b[0m\u001b[0;34m(\u001b[0m\u001b[0mx\u001b[0m\u001b[0;34m[\u001b[0m\u001b[0;34m'train'\u001b[0m\u001b[0;34m]\u001b[0m\u001b[0;34m,\u001b[0m \u001b[0my\u001b[0m\u001b[0;34m[\u001b[0m\u001b[0;34m'train'\u001b[0m\u001b[0;34m]\u001b[0m\u001b[0;34m)\u001b[0m\u001b[0;34m\u001b[0m\u001b[0m\n\u001b[0m\u001b[1;32m     29\u001b[0m \u001b[0;34m\u001b[0m\u001b[0m\n\u001b[1;32m     30\u001b[0m         \u001b[0;31m# predict\u001b[0m\u001b[0;34m\u001b[0m\u001b[0;34m\u001b[0m\u001b[0m\n",
      "\u001b[0;32m~/Documents/github_repos/kernel_derivatives/krr.py\u001b[0m in \u001b[0;36mfit\u001b[0;34m(self, x, y)\u001b[0m\n\u001b[1;32m    193\u001b[0m \u001b[0;34m\u001b[0m\u001b[0m\n\u001b[1;32m    194\u001b[0m             \u001b[0;31m# regular linalg solver\u001b[0m\u001b[0;34m\u001b[0m\u001b[0;34m\u001b[0m\u001b[0m\n\u001b[0;32m--> 195\u001b[0;31m             \u001b[0mself\u001b[0m\u001b[0;34m.\u001b[0m\u001b[0mweights_\u001b[0m \u001b[0;34m=\u001b[0m \u001b[0mnp\u001b[0m\u001b[0;34m.\u001b[0m\u001b[0mlinalg\u001b[0m\u001b[0;34m.\u001b[0m\u001b[0msolve\u001b[0m\u001b[0;34m(\u001b[0m\u001b[0mmat_A\u001b[0m\u001b[0;34m,\u001b[0m \u001b[0mmat_b\u001b[0m\u001b[0;34m)\u001b[0m\u001b[0;34m\u001b[0m\u001b[0m\n\u001b[0m\u001b[1;32m    196\u001b[0m \u001b[0;34m\u001b[0m\u001b[0m\n\u001b[1;32m    197\u001b[0m         \u001b[0;32melif\u001b[0m \u001b[0mself\u001b[0m\u001b[0;34m.\u001b[0m\u001b[0msolver\u001b[0m \u001b[0;32mis\u001b[0m \u001b[0;34m'chol'\u001b[0m\u001b[0;34m:\u001b[0m\u001b[0;34m\u001b[0m\u001b[0m\n",
      "\u001b[0;32m~/anaconda3/lib/python3.6/site-packages/numpy/linalg/linalg.py\u001b[0m in \u001b[0;36msolve\u001b[0;34m(a, b)\u001b[0m\n\u001b[1;32m    373\u001b[0m     \u001b[0msignature\u001b[0m \u001b[0;34m=\u001b[0m \u001b[0;34m'DD->D'\u001b[0m \u001b[0;32mif\u001b[0m \u001b[0misComplexType\u001b[0m\u001b[0;34m(\u001b[0m\u001b[0mt\u001b[0m\u001b[0;34m)\u001b[0m \u001b[0;32melse\u001b[0m \u001b[0;34m'dd->d'\u001b[0m\u001b[0;34m\u001b[0m\u001b[0m\n\u001b[1;32m    374\u001b[0m     \u001b[0mextobj\u001b[0m \u001b[0;34m=\u001b[0m \u001b[0mget_linalg_error_extobj\u001b[0m\u001b[0;34m(\u001b[0m\u001b[0m_raise_linalgerror_singular\u001b[0m\u001b[0;34m)\u001b[0m\u001b[0;34m\u001b[0m\u001b[0m\n\u001b[0;32m--> 375\u001b[0;31m     \u001b[0mr\u001b[0m \u001b[0;34m=\u001b[0m \u001b[0mgufunc\u001b[0m\u001b[0;34m(\u001b[0m\u001b[0ma\u001b[0m\u001b[0;34m,\u001b[0m \u001b[0mb\u001b[0m\u001b[0;34m,\u001b[0m \u001b[0msignature\u001b[0m\u001b[0;34m=\u001b[0m\u001b[0msignature\u001b[0m\u001b[0;34m,\u001b[0m \u001b[0mextobj\u001b[0m\u001b[0;34m=\u001b[0m\u001b[0mextobj\u001b[0m\u001b[0;34m)\u001b[0m\u001b[0;34m\u001b[0m\u001b[0m\n\u001b[0m\u001b[1;32m    376\u001b[0m \u001b[0;34m\u001b[0m\u001b[0m\n\u001b[1;32m    377\u001b[0m     \u001b[0;32mreturn\u001b[0m \u001b[0mwrap\u001b[0m\u001b[0;34m(\u001b[0m\u001b[0mr\u001b[0m\u001b[0;34m.\u001b[0m\u001b[0mastype\u001b[0m\u001b[0;34m(\u001b[0m\u001b[0mresult_t\u001b[0m\u001b[0;34m,\u001b[0m \u001b[0mcopy\u001b[0m\u001b[0;34m=\u001b[0m\u001b[0;32mFalse\u001b[0m\u001b[0;34m)\u001b[0m\u001b[0;34m)\u001b[0m\u001b[0;34m\u001b[0m\u001b[0m\n",
      "\u001b[0;32m~/anaconda3/lib/python3.6/site-packages/numpy/linalg/linalg.py\u001b[0m in \u001b[0;36m_raise_linalgerror_singular\u001b[0;34m(err, flag)\u001b[0m\n\u001b[1;32m     88\u001b[0m \u001b[0;34m\u001b[0m\u001b[0m\n\u001b[1;32m     89\u001b[0m \u001b[0;32mdef\u001b[0m \u001b[0m_raise_linalgerror_singular\u001b[0m\u001b[0;34m(\u001b[0m\u001b[0merr\u001b[0m\u001b[0;34m,\u001b[0m \u001b[0mflag\u001b[0m\u001b[0;34m)\u001b[0m\u001b[0;34m:\u001b[0m\u001b[0;34m\u001b[0m\u001b[0m\n\u001b[0;32m---> 90\u001b[0;31m     \u001b[0;32mraise\u001b[0m \u001b[0mLinAlgError\u001b[0m\u001b[0;34m(\u001b[0m\u001b[0;34m\"Singular matrix\"\u001b[0m\u001b[0;34m)\u001b[0m\u001b[0;34m\u001b[0m\u001b[0m\n\u001b[0m\u001b[1;32m     91\u001b[0m \u001b[0;34m\u001b[0m\u001b[0m\n\u001b[1;32m     92\u001b[0m \u001b[0;32mdef\u001b[0m \u001b[0m_raise_linalgerror_nonposdef\u001b[0m\u001b[0;34m(\u001b[0m\u001b[0merr\u001b[0m\u001b[0;34m,\u001b[0m \u001b[0mflag\u001b[0m\u001b[0;34m)\u001b[0m\u001b[0;34m:\u001b[0m\u001b[0;34m\u001b[0m\u001b[0m\n",
      "\u001b[0;31mLinAlgError\u001b[0m: Singular matrix"
     ]
    }
   ],
   "source": [
    "# initialize the parameter candidates\n",
    "sigma_candidates = np.logspace(-2, 2, num=10)\n",
    "lam_candidates = np.hstack((np.logspace(-20, 10, num=10)))\n",
    "\n",
    "from sklearn.model_selection import KFold, train_test_split\n",
    "\n",
    "# initialize grid\n",
    "score_grid = np.empty(shape=(len(sigma_candidates), len(lam_candidates)))\n",
    "\n",
    "print('Shape of grid: {}'.format(score_grid.shape))\n",
    "print('Number of sigmas: {}'.format(score_grid.shape[0]))\n",
    "print('Number of lambdas: {}'.format(score_grid.shape[1]))\n",
    "min_score = np.inf\n",
    "\n",
    "# loop through sigma values\n",
    "for (i, isigma) in enumerate(sigma_candidates):\n",
    "    \n",
    "    # loop through lambda values\n",
    "    for (j, ilam) in enumerate(lam_candidates):\n",
    "        \n",
    "        # initialize model\n",
    "        krr_model = KRR(reg='df',\n",
    "                        lam=ilam,\n",
    "                        sigma=isigma,\n",
    "                        rbf_solver='cy')\n",
    "        \n",
    "        # fit to data\n",
    "        krr_model.fit(x['train'], y['train'])\n",
    "\n",
    "        # predict\n",
    "        y_pred = krr_model.predict(x['validation'])\n",
    "\n",
    "        # save the score\n",
    "        score_grid[i, j] = mean_absolute_error(y['validation'], y_pred)\n",
    "        \n",
    "        # save best score\n",
    "        if score_grid[i, j] < min_score:\n",
    "            \n",
    "            print(min_score)\n",
    "            min_score = score_grid[i, j]\n",
    "            best_lam_idx = j\n",
    "            best_sigma_idx = i\n",
    "            best_lam = ilam\n",
    "            best_sigma = isigma\n",
    "\n",
    "\n",
    "\n",
    "\n",
    "# normalize score grid\n",
    "score_grid = score_grid\n",
    "\n",
    "print('Minimum Score: {}'.format(min_score))\n",
    "print('Best Lambda: {}'.format(best_lam))\n",
    "print('Best Sigma: {}'.format(best_sigma))\n",
    "print('Best Lambda Index: {}'.format(best_lam_idx))\n",
    "print('Best Sigma Index: {}'.format(best_sigma_idx))\n",
    "\n",
    "print('\\n {}'.format(sigma_candidates))\n",
    "print('\\n {}'.format(lam_candidates))\n",
    "\n",
    "print('\\n {}'.format(score_grid[:,:]))\n",
    "print('\\n {}'.format(score_grid[:,best_lam_idx]))\n",
    "print('\\n {}'.format(score_grid[best_sigma_idx,:]))\n",
    "print('\\n {}'.format(score_grid[best_sigma_idx,best_lam_idx]))"
   ]
  },
  {
   "cell_type": "code",
   "execution_count": 9,
   "metadata": {},
   "outputs": [
    {
     "name": "stdout",
     "output_type": "stream",
     "text": [
      "Score Grid: \n",
      "[[ 0.38286021  0.38286021  0.38286021  0.38286021  0.38286021  0.38286021\n",
      "   0.38286023  0.3828603   0.3828603   0.3828603 ]\n",
      " [ 0.30984076  0.30984076  0.30984076  0.30984094  0.31017605  0.31178599\n",
      "   0.31179034  0.31179034  0.31179164  0.31347207]\n",
      " [ 0.32052974  0.32052974  0.32052974  0.3205293   0.31967787  0.31972648\n",
      "   0.31975096  0.31973973  0.34509244  0.53918676]\n",
      " [ 0.50024233  0.44081669  0.65013308  0.45255889  0.40423973  0.4398687\n",
      "   0.26548128  0.26885992  0.27090365  0.16054129]\n",
      " [ 0.16966536  0.16699493  0.1666637   0.21784601  0.16831165  0.17036337\n",
      "   0.17070805  0.15989691  0.1652279   0.13573993]\n",
      " [ 0.15571561  0.1547491   0.15369872  0.15039845  0.1389744   0.13779511\n",
      "   0.15002583  0.13795187  0.14357563  0.12920416]\n",
      " [ 0.14751942  0.14633274  0.15501681  0.14620847  0.14626679  0.14638215\n",
      "   0.14722477  0.14707142  0.13532773  1.        ]\n",
      " [ 0.14744748  0.14744748  0.14750337  0.14734253  0.14246177  0.14190398\n",
      "   0.14196856  0.14203257  0.35560124  0.24439997]\n",
      " [ 0.14506966  0.14506966  0.14090728  0.14261442  0.14138584  0.14547234\n",
      "   0.14819226  0.17947343  0.2489962   0.24917239]\n",
      " [ 0.23008649  0.23008649  0.23008649  0.23008087  0.23006139  0.23497531\n",
      "   0.24971515  0.24966226  0.24966187  0.24964454]]\n",
      "\n",
      "Minimum Error: \n",
      "0.1292041551127394\n",
      "\n",
      "ith Sigma: \n",
      "[5]\n",
      "\n",
      "jth Lambda: \n",
      "[9]\n",
      "\n",
      "Best Sigma: \n",
      "[ 1.66810054]\n",
      "\n",
      "Best Lambda: \n",
      "[  1.00000000e+10]\n",
      "\n"
     ]
    }
   ],
   "source": [
    "# normalize score grid\n",
    "score_grid = score_grid/score_grid.max()\n",
    "\n",
    "print('Score Grid: \\n{}\\n'.format(score_grid))\n",
    "\n",
    "# minimum mae\n",
    "min_mae = np.min(score_grid)\n",
    "\n",
    "print('Minimum Error: \\n{}\\n'.format(min_mae))\n",
    "\n",
    "# find values with minimum score\n",
    "ibest_sigma, ibest_lambda = np.where(min_mae == score_grid)\n",
    "\n",
    "print('ith Sigma: \\n{}\\n'.format(ibest_sigma))\n",
    "print('jth Lambda: \\n{}\\n'.format(ibest_lambda))\n",
    "\n",
    "# get best sigma and lambdas\n",
    "best_sigma = sigma_candidates[ibest_sigma]\n",
    "best_lambda = lam_candidates[ibest_lambda]\n",
    "\n",
    "print('Best Sigma: \\n{}\\n'.format(best_sigma))\n",
    "print('Best Lambda: \\n{}\\n'.format(best_lambda))\n",
    "\n",
    "# # maximum mae\n",
    "# max_mae = np.max(score_grid)\n",
    "\n",
    "# print('Maximum Error: \\n{}\\n'.format(max_mae))\n",
    "\n",
    "# # find values with minimum score\n",
    "# iworst_sigma, iworst_lambda = np.where(max_mae == score_grid)\n",
    "\n",
    "# print('ith Sigma: \\n{}\\n'.format(iworst_sigma))\n",
    "# print('jth Lambda: \\n{}\\n'.format(iworst_lambda))\n",
    "\n",
    "# # get best sigma and lambdas\n",
    "# worst_sigma = sigma_candidates[iworst_sigma]\n",
    "# worst_lambda = lam_candidates[iworst_lambda]\n",
    "\n",
    "# print('Worst Sigma: \\n{}\\n'.format(worst_sigma))\n",
    "# print('Worst Lambda: \\n{}\\n'.format(worst_lambda))"
   ]
  },
  {
   "cell_type": "code",
   "execution_count": 10,
   "metadata": {},
   "outputs": [
    {
     "data": {
      "image/png": "[encoded data removed]",
      "text/plain": [
       "<matplotlib.figure.Figure at 0x7f47d8256c50>"
      ]
     },
     "metadata": {},
     "output_type": "display_data"
    }
   ],
   "source": [
    "# initialize the parameter candidates\n",
    "fig, ax = plt.subplots()\n",
    "\n",
    "# plot the colormap\n",
    "aux_score_grid = score_grid**0.001\n",
    "cax = ax.imshow(aux_score_grid, interpolation='bicubic',\n",
    "                vmin = aux_score_grid.min(), vmax = aux_score_grid.min()*1.001)\n",
    "\n",
    "# # plot the minimum values\n",
    "# plt.plot(ibest_lambda, ibest_sigma,\n",
    "#          color='red', marker='+', markersize=15)\n",
    "\n",
    "formatter = ticker.ScalarFormatter(useMathText=True)\n",
    "formatter.set_scientific(True)\n",
    "\n",
    "# def format_ticks(value, tick_number):\n",
    "    \n",
    "\n",
    "fmt_sigma = ['%1.1e' % i for i in sigma_candidates.tolist()]\n",
    "fmt_lam = ['%1.1e' % i for i in lam_candidates.tolist()]\n",
    "\n",
    "ax.set_xlabel(r'$\\lambda$')\n",
    "ax.set_xticks(np.arange(len(fmt_lam)))\n",
    "ax.set_xticklabels(fmt_lam, rotation=90)\n",
    "\n",
    "ax.set_ylabel(r'$\\sigma$', rotation=0)\n",
    "ax.set_yticks(np.arange(len(fmt_sigma)))\n",
    "ax.set_yticklabels(fmt_sigma)\n",
    "\n",
    "cbar = fig.colorbar(cax)\n",
    "ax.set_title('Validation Accuracy')\n",
    "plt.show()"
   ]
  },
  {
   "cell_type": "code",
   "execution_count": 11,
   "metadata": {},
   "outputs": [
    {
     "name": "stdout",
     "output_type": "stream",
     "text": [
      "Error Test Set: 0.26718702850752746\n"
     ]
    }
   ],
   "source": [
    "# initialize model\n",
    "krr_model = KRR(reg='df',\n",
    "                lam=best_lam,\n",
    "                sigma=best_sigma)\n",
    "\n",
    "# fit to data\n",
    "krr_model.fit(x['train'], y['train'])\n",
    "\n",
    "# predict\n",
    "y_pred = krr_model.predict(x['test'])\n",
    "\n",
    "print('Error Test Set: {}'.format(mean_absolute_error(y['test'], y_pred)))"
   ]
  },
  {
   "cell_type": "code",
   "execution_count": 12,
   "metadata": {},
   "outputs": [
    {
     "data": {
      "image/png": "[encoded data removed]",
      "text/plain": [
       "<matplotlib.figure.Figure at 0x7f47d819a668>"
      ]
     },
     "metadata": {},
     "output_type": "display_data"
    }
   ],
   "source": [
    "fig, ax = plt.subplots()\n",
    "\n",
    "# plot the signal\n",
    "ax.plot(x['data'], x['signal'], color='y', linewidth=3, label='Signal')\n",
    "\n",
    "# plot kernel model\n",
    "ax.plot(x['test'], y_pred, 'k+', linewidth=3, label=r'KRR Model, $||\\partial f||$')\n",
    "\n",
    "# plot data\n",
    "ax.scatter(x['train'], y['train'], color='r', label='Data')\n",
    "\n",
    "ax.tick_params(\n",
    "    axis='both',\n",
    "    which='both',\n",
    "    bottom='off',\n",
    "    left='off',\n",
    "    top='off',\n",
    "    labelbottom='off',\n",
    "    labelleft='off')\n",
    "\n",
    "# get rid of frame\n",
    "for spine in plt.gca().spines.values():\n",
    "    spine.set_visible(False)\n",
    "\n",
    "ax.legend(fontsize=14)\n",
    "plt.tight_layout()\n",
    "\n",
    "plt.show()"
   ]
  },
  {
   "cell_type": "markdown",
   "metadata": {},
   "source": [
    "## KRR ($||\\partial^2 f||$)"
   ]
  },
  {
   "cell_type": "code",
   "execution_count": 13,
   "metadata": {},
   "outputs": [
    {
     "name": "stdout",
     "output_type": "stream",
     "text": [
      "Shape of grid: (10, 11)\n",
      "Number of sigmas: 10\n",
      "Number of lambdas: 11\n",
      "Minimum Score: 0.23287636136810325\n",
      "Best Lambda: 100000.0\n",
      "Best Sigma: 1.6681005372000592\n",
      "Best Lambda Index: 10\n",
      "Best Sigma Index: 5\n"
     ]
    }
   ],
   "source": [
    "# initialize the parameter candidates\n",
    "sigma_candidates = np.logspace(-2, 2, num=10)\n",
    "lam_candidates = np.hstack(([0], np.logspace(-20, 5, num=10)))\n",
    "\n",
    "from sklearn.model_selection import KFold, train_test_split\n",
    "\n",
    "# initialize grid\n",
    "score_grid = np.empty(shape=(len(sigma_candidates), len(lam_candidates)))\n",
    "\n",
    "print('Shape of grid: {}'.format(score_grid.shape))\n",
    "print('Number of sigmas: {}'.format(score_grid.shape[0]))\n",
    "print('Number of lambdas: {}'.format(score_grid.shape[1]))\n",
    "min_score = 1000\n",
    "\n",
    "# loop through sigma values\n",
    "for (i, isigma) in enumerate(sigma_candidates):\n",
    "    \n",
    "    # loop through lambda values\n",
    "    for (j, ilam) in enumerate(lam_candidates):\n",
    "        \n",
    "        # initialize model\n",
    "        krr_model = KRR(reg='d2f',\n",
    "                        lam=ilam,\n",
    "                        sigma=isigma)\n",
    "        \n",
    "        # fit to data\n",
    "        krr_model.fit(x['train'], y['train'])\n",
    "\n",
    "        # predict\n",
    "        y_pred = krr_model.predict(x['validation'])\n",
    "\n",
    "        # save the score\n",
    "        score_grid[i, j] = mean_absolute_error(y['validation'], y_pred)\n",
    "        \n",
    "        # save best score\n",
    "        if score_grid[i, j] < min_score:\n",
    "            \n",
    "            min_score = score_grid[i, j]\n",
    "            best_lam_idx = j\n",
    "            best_sigma_idx = i\n",
    "            best_lam = ilam\n",
    "            best_sigma = isigma\n",
    "\n",
    "\n",
    "\n",
    "\n",
    "# normalize score grid\n",
    "score_grid = score_grid\n",
    "\n",
    "print('Minimum Score: {}'.format(min_score))\n",
    "print('Best Lambda: {}'.format(best_lam))\n",
    "print('Best Sigma: {}'.format(best_sigma))\n",
    "print('Best Lambda Index: {}'.format(best_lam_idx))\n",
    "print('Best Sigma Index: {}'.format(best_sigma_idx))\n",
    "\n",
    "# print('\\n {}'.format(sigma_candidates))\n",
    "# print('\\n {}'.format(lam_candidates))\n",
    "\n",
    "# print('\\n {}'.format(score_grid[:,:]))\n",
    "# print('\\n {}'.format(score_grid[:,best_lam_idx]))\n",
    "# print('\\n {}'.format(score_grid[best_sigma_idx,:]))\n",
    "# print('\\n {}'.format(score_grid[best_sigma_idx,best_lam_idx]))"
   ]
  },
  {
   "cell_type": "code",
   "execution_count": 14,
   "metadata": {},
   "outputs": [
    {
     "name": "stdout",
     "output_type": "stream",
     "text": [
      "Score Grid: \n",
      "[[ 0.09371277  0.09371277  0.09371277  0.09371277  0.09371278  0.09371279\n",
      "   0.09371279  0.09371279  0.09371279  0.09371279  0.09371291]\n",
      " [ 0.07583978  0.07583978  0.07583978  0.07583979  0.0758443   0.07624614\n",
      "   0.07631684  0.07631698  0.07631698  0.07631696  0.07638991]\n",
      " [ 0.07845613  0.07845613  0.07845613  0.07845612  0.0784555   0.07813795\n",
      "   0.07825231  0.07826548  0.07826553  0.07840974  0.56100128]\n",
      " [ 0.11630873  0.82338196  0.13090095  0.11633106  1.          0.09954618\n",
      "   0.15847257  0.73398257  0.05387489  0.04619281  0.04510048]\n",
      " [ 0.04132498  0.04157774  0.041607    0.05065504  0.04101589  0.04122395\n",
      "   0.04343255  0.0412339   0.04078677  0.04159683  0.03891697]\n",
      " [ 0.03644581  0.03663601  0.03703698  0.03764024  0.03898247  0.03674144\n",
      "   0.03369852  0.03373094  0.03375311  0.03277242  0.03219418]\n",
      " [ 0.03610836  0.03610836  0.03582092  0.03585217  0.03565757  0.03582513\n",
      "   0.03576854  0.03577571  0.03581541  0.03599181  0.03603776]\n",
      " [ 0.03609075  0.03609075  0.03609075  0.03668796  0.03609259  0.0360887\n",
      "   0.03520946  0.0347492   0.03479052  0.03474736  0.03480371]\n",
      " [ 0.03550873  0.03550873  0.03550873  0.03550873  0.03472549  0.03462693\n",
      "   0.0376666   0.24953481  0.09776448  0.03549483  0.0629929 ]\n",
      " [ 0.05631831  0.05631831  0.05631831  0.05631831  0.05630257  0.0563254\n",
      "   0.05632364  0.05650446  0.06102215  0.06111914  0.06111058]]\n",
      "\n",
      "Minimum Error: \n",
      "0.03219417980882773\n",
      "\n",
      "ith Sigma: \n",
      "[5]\n",
      "\n",
      "jth Lambda: \n",
      "[10]\n",
      "\n",
      "Best Sigma: \n",
      "[ 1.66810054]\n",
      "\n",
      "Best Lambda: \n",
      "[ 100000.]\n",
      "\n"
     ]
    }
   ],
   "source": [
    "# normalize score grid\n",
    "score_grid = score_grid/score_grid.max()\n",
    "\n",
    "print('Score Grid: \\n{}\\n'.format(score_grid))\n",
    "\n",
    "# minimum mae\n",
    "min_mae = np.min(score_grid)\n",
    "\n",
    "print('Minimum Error: \\n{}\\n'.format(min_mae))\n",
    "\n",
    "# find values with minimum score\n",
    "ibest_sigma, ibest_lambda = np.where(min_mae == score_grid)\n",
    "\n",
    "print('ith Sigma: \\n{}\\n'.format(ibest_sigma))\n",
    "print('jth Lambda: \\n{}\\n'.format(ibest_lambda))\n",
    "\n",
    "# get best sigma and lambdas\n",
    "best_sigma = sigma_candidates[ibest_sigma]\n",
    "best_lambda = lam_candidates[ibest_lambda]\n",
    "\n",
    "print('Best Sigma: \\n{}\\n'.format(best_sigma))\n",
    "print('Best Lambda: \\n{}\\n'.format(best_lambda))\n",
    "\n",
    "# # maximum mae\n",
    "# max_mae = np.max(score_grid)\n",
    "\n",
    "# print('Maximum Error: \\n{}\\n'.format(max_mae))\n",
    "\n",
    "# # find values with minimum score\n",
    "# iworst_sigma, iworst_lambda = np.where(max_mae == score_grid)\n",
    "\n",
    "# print('ith Sigma: \\n{}\\n'.format(iworst_sigma))\n",
    "# print('jth Lambda: \\n{}\\n'.format(iworst_lambda))\n",
    "\n",
    "# # get best sigma and lambdas\n",
    "# worst_sigma = sigma_candidates[iworst_sigma]\n",
    "# worst_lambda = lam_candidates[iworst_lambda]\n",
    "\n",
    "# print('Worst Sigma: \\n{}\\n'.format(worst_sigma))\n",
    "# print('Worst Lambda: \\n{}\\n'.format(worst_lambda))"
   ]
  },
  {
   "cell_type": "code",
   "execution_count": 15,
   "metadata": {},
   "outputs": [
    {
     "data": {
      "image/png": "[encoded data removed]",
      "text/plain": [
       "<matplotlib.figure.Figure at 0x7f47d8031f60>"
      ]
     },
     "metadata": {},
     "output_type": "display_data"
    }
   ],
   "source": [
    "# initialize the parameter candidates\n",
    "fig, ax = plt.subplots()\n",
    "\n",
    "# plot the colormap\n",
    "aux_score_grid = score_grid**0.001\n",
    "cax = ax.imshow(aux_score_grid, interpolation='bicubic', \n",
    "                vmin = aux_score_grid.min(), vmax = aux_score_grid.min()*1.001)\n",
    "\n",
    "# # plot the minimum values\n",
    "# plt.plot(ibest_lambda, ibest_sigma,\n",
    "#          color='red', marker='+', markersize=15)\n",
    "\n",
    "formatter = ticker.ScalarFormatter(useMathText=True)\n",
    "formatter.set_scientific(True)\n",
    "\n",
    "# def format_ticks(value, tick_number):\n",
    "    \n",
    "\n",
    "fmt_sigma = ['%1.1e' % i for i in sigma_candidates.tolist()]\n",
    "fmt_lam = ['%1.1e' % i for i in lam_candidates.tolist()]\n",
    "\n",
    "ax.set_xlabel(r'$\\lambda$')\n",
    "ax.set_xticks(np.arange(len(fmt_lam)))\n",
    "ax.set_xticklabels(fmt_lam, rotation=90)\n",
    "\n",
    "ax.set_ylabel(r'$\\sigma$', rotation=0)\n",
    "ax.set_yticks(np.arange(len(fmt_sigma)))\n",
    "ax.set_yticklabels(fmt_sigma)\n",
    "\n",
    "cbar = fig.colorbar(cax)\n",
    "ax.set_title('Validation Accuracy')\n",
    "plt.show()"
   ]
  },
  {
   "cell_type": "code",
   "execution_count": 16,
   "metadata": {},
   "outputs": [
    {
     "name": "stdout",
     "output_type": "stream",
     "text": [
      "Error Test Set: 0.26420011763432316\n"
     ]
    }
   ],
   "source": [
    "# initialize model\n",
    "krr_model = KRR(reg='d2f',\n",
    "                lam=best_lam,\n",
    "                sigma=best_sigma)\n",
    "\n",
    "# fit to data\n",
    "krr_model.fit(x['train'], y['train'])\n",
    "\n",
    "# predict\n",
    "y_pred = krr_model.predict(x['test'])\n",
    "\n",
    "print('Error Test Set: {}'.format(mean_absolute_error(y['test'], y_pred)))"
   ]
  },
  {
   "cell_type": "code",
   "execution_count": 17,
   "metadata": {},
   "outputs": [
    {
     "data": {
      "image/png": "[encoded data removed]",
      "text/plain": [
       "<matplotlib.figure.Figure at 0x7f47cf6d04e0>"
      ]
     },
     "metadata": {},
     "output_type": "display_data"
    }
   ],
   "source": [
    "# minimum mae\n",
    "min_mae = np.min(score_grid)\n",
    "# print('Score Grid: {}'.format(score_grid))\n",
    "fig, ax = plt.subplots()\n",
    "\n",
    "# plot the signal\n",
    "ax.plot(x['data'], x['signal'], color='y', linewidth=3, label='Signal')\n",
    "\n",
    "# plot kernel model\n",
    "ax.plot(x['test'], y_pred, 'k+', linewidth=3, label=r'KRR Model, $||\\partial^2 f||$')\n",
    "\n",
    "# plot data\n",
    "ax.scatter(x['train'], y['train'], color='r', label='Data')\n",
    "\n",
    "ax.tick_params(\n",
    "    axis='both',\n",
    "    which='both',\n",
    "    bottom='off',\n",
    "    left='off',\n",
    "    top='off',\n",
    "    labelbottom='off',\n",
    "    labelleft='off')\n",
    "\n",
    "# get rid of frame\n",
    "for spine in plt.gca().spines.values():\n",
    "    spine.set_visible(False)\n",
    "\n",
    "ax.legend(fontsize=14)\n",
    "plt.tight_layout()\n",
    "\n",
    "plt.show()"
   ]
  },
  {
   "cell_type": "code",
   "execution_count": null,
   "metadata": {
    "collapsed": true
   },
   "outputs": [],
   "source": []
  }
 ],
 "metadata": {
  "kernelspec": {
   "display_name": "Python 3",
   "language": "python",
   "name": "python3"
  },
  "language_info": {
   "codemirror_mode": {
    "name": "ipython",
    "version": 3
   },
   "file_extension": ".py",
   "mimetype": "text/x-python",
   "name": "python",
   "nbconvert_exporter": "python",
   "pygments_lexer": "ipython3",
   "version": "3.6.4"
  }
 },
 "nbformat": 4,
 "nbformat_minor": 2
}
